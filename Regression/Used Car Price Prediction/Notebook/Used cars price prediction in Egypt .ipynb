{
 "cells": [
  {
   "attachments": {},
   "cell_type": "markdown",
   "metadata": {},
   "source": [
    "## 1- importing libraries & Data understanding"
   ]
  },
  {
   "cell_type": "code",
   "execution_count": 353,
   "metadata": {},
   "outputs": [],
   "source": [
    "import numpy as np\n",
    "import pandas as pd \n",
    "import plotly.express as px\n",
    "import pickle"
   ]
  },
  {
   "cell_type": "code",
   "execution_count": 354,
   "metadata": {},
   "outputs": [],
   "source": [
    "df = pd.read_csv('Cars.csv')"
   ]
  },
  {
   "cell_type": "code",
   "execution_count": 355,
   "metadata": {},
   "outputs": [
    {
     "data": {
      "text/html": [
       "<div>\n",
       "<style scoped>\n",
       "    .dataframe tbody tr th:only-of-type {\n",
       "        vertical-align: middle;\n",
       "    }\n",
       "\n",
       "    .dataframe tbody tr th {\n",
       "        vertical-align: top;\n",
       "    }\n",
       "\n",
       "    .dataframe thead th {\n",
       "        text-align: right;\n",
       "    }\n",
       "</style>\n",
       "<table border=\"1\" class=\"dataframe\">\n",
       "  <thead>\n",
       "    <tr style=\"text-align: right;\">\n",
       "      <th></th>\n",
       "      <th>Unnamed: 0</th>\n",
       "      <th>Brand</th>\n",
       "      <th>Model</th>\n",
       "      <th>Body</th>\n",
       "      <th>Color</th>\n",
       "      <th>Year</th>\n",
       "      <th>Fuel</th>\n",
       "      <th>Kilometers</th>\n",
       "      <th>Engine</th>\n",
       "      <th>Transmission</th>\n",
       "      <th>Price</th>\n",
       "      <th>Gov</th>\n",
       "    </tr>\n",
       "  </thead>\n",
       "  <tbody>\n",
       "    <tr>\n",
       "      <th>0</th>\n",
       "      <td>5337</td>\n",
       "      <td>Hyundai</td>\n",
       "      <td>Accent</td>\n",
       "      <td>Sedan</td>\n",
       "      <td>Black</td>\n",
       "      <td>2007</td>\n",
       "      <td>Benzine</td>\n",
       "      <td>140000 to 159999</td>\n",
       "      <td>1600 CC</td>\n",
       "      <td>Automatic</td>\n",
       "      <td>140.0</td>\n",
       "      <td>Giza</td>\n",
       "    </tr>\n",
       "    <tr>\n",
       "      <th>1</th>\n",
       "      <td>5338</td>\n",
       "      <td>Hyundai</td>\n",
       "      <td>Accent</td>\n",
       "      <td>Sedan</td>\n",
       "      <td>Silver</td>\n",
       "      <td>2005</td>\n",
       "      <td>Benzine</td>\n",
       "      <td>180000 to 199999</td>\n",
       "      <td>1000 - 1300 CC</td>\n",
       "      <td>Manual</td>\n",
       "      <td>78.0</td>\n",
       "      <td>Qena</td>\n",
       "    </tr>\n",
       "    <tr>\n",
       "      <th>2</th>\n",
       "      <td>5339</td>\n",
       "      <td>Hyundai</td>\n",
       "      <td>Accent</td>\n",
       "      <td>Sedan</td>\n",
       "      <td>Gray</td>\n",
       "      <td>1999</td>\n",
       "      <td>Benzine</td>\n",
       "      <td>140000 to 159999</td>\n",
       "      <td>1400 - 1500 CC</td>\n",
       "      <td>Manual</td>\n",
       "      <td>70.0</td>\n",
       "      <td>Giza</td>\n",
       "    </tr>\n",
       "  </tbody>\n",
       "</table>\n",
       "</div>"
      ],
      "text/plain": [
       "   Unnamed: 0    Brand   Model   Body   Color  Year     Fuel  \\\n",
       "0        5337  Hyundai  Accent  Sedan   Black  2007  Benzine   \n",
       "1        5338  Hyundai  Accent  Sedan  Silver  2005  Benzine   \n",
       "2        5339  Hyundai  Accent  Sedan    Gray  1999  Benzine   \n",
       "\n",
       "         Kilometers          Engine Transmission  Price   Gov  \n",
       "0  140000 to 159999         1600 CC    Automatic  140.0  Giza  \n",
       "1  180000 to 199999  1000 - 1300 CC       Manual   78.0  Qena  \n",
       "2  140000 to 159999  1400 - 1500 CC       Manual   70.0  Giza  "
      ]
     },
     "execution_count": 355,
     "metadata": {},
     "output_type": "execute_result"
    }
   ],
   "source": [
    "df.head(3)"
   ]
  },
  {
   "attachments": {},
   "cell_type": "markdown",
   "metadata": {},
   "source": [
    "##### - The data is about used cars price in egypt. we have 10 features in our data (categorical & numerical) affect the target value (continous numerical value \"Price\"). So we have regression case here.\n",
    "##### - we will start with cleaning and preparing our data for using in model."
   ]
  },
  {
   "cell_type": "code",
   "execution_count": 356,
   "metadata": {},
   "outputs": [
    {
     "name": "stdout",
     "output_type": "stream",
     "text": [
      "<class 'pandas.core.frame.DataFrame'>\n",
      "RangeIndex: 14741 entries, 0 to 14740\n",
      "Data columns (total 12 columns):\n",
      " #   Column        Non-Null Count  Dtype  \n",
      "---  ------        --------------  -----  \n",
      " 0   Unnamed: 0    14741 non-null  int64  \n",
      " 1   Brand         14741 non-null  object \n",
      " 2   Model         14741 non-null  object \n",
      " 3   Body          14741 non-null  object \n",
      " 4   Color         14741 non-null  object \n",
      " 5   Year          14741 non-null  int64  \n",
      " 6   Fuel          14741 non-null  object \n",
      " 7   Kilometers    14741 non-null  object \n",
      " 8   Engine        14741 non-null  object \n",
      " 9   Transmission  14741 non-null  object \n",
      " 10  Price         14741 non-null  float64\n",
      " 11  Gov           14741 non-null  object \n",
      "dtypes: float64(1), int64(2), object(9)\n",
      "memory usage: 1.3+ MB\n"
     ]
    }
   ],
   "source": [
    "df.info()"
   ]
  },
  {
   "attachments": {},
   "cell_type": "markdown",
   "metadata": {},
   "source": [
    "##### - From above cell, I recommend to (drop \"Unnamed\" column, transform \"Kilometers, Engine\" to num type).\n",
    "##### - Also i see it's better to express the Year in another form, let's start ..."
   ]
  },
  {
   "attachments": {},
   "cell_type": "markdown",
   "metadata": {},
   "source": [
    "## 2- Data Cleaning & Preprocessing"
   ]
  },
  {
   "cell_type": "code",
   "execution_count": 357,
   "metadata": {},
   "outputs": [
    {
     "data": {
      "text/plain": [
       "128        2425\n",
       "Verna      1903\n",
       "Elantra    1529\n",
       "Lanos      1342\n",
       "Accent     1272\n",
       "Optra      1252\n",
       "Shahin     1142\n",
       "Aveo        994\n",
       "131         572\n",
       "Cruze       428\n",
       "Uno         350\n",
       "Avante      282\n",
       "Tipo        274\n",
       "Punto       270\n",
       "Matrix      268\n",
       "Tucson      182\n",
       "I10         166\n",
       "Excel        90\n",
       "Name: Model, dtype: int64"
      ]
     },
     "execution_count": 357,
     "metadata": {},
     "output_type": "execute_result"
    }
   ],
   "source": [
    "df.Model.value_counts() # see value counts helps in deciding the type of encoding method you will use (one hot, binary)"
   ]
  },
  {
   "cell_type": "code",
   "execution_count": 358,
   "metadata": {},
   "outputs": [
    {
     "data": {
      "text/plain": [
       "1600 CC           6762\n",
       "1400 - 1500 CC    4356\n",
       "1000 - 1300 CC    3623\n",
       "Name: Engine, dtype: int64"
      ]
     },
     "execution_count": 358,
     "metadata": {},
     "output_type": "execute_result"
    }
   ],
   "source": [
    "df.Engine.value_counts() # see type of entries to provide in mapping"
   ]
  },
  {
   "attachments": {},
   "cell_type": "markdown",
   "metadata": {},
   "source": [
    "#### 2.1 Drop unnecessary columns"
   ]
  },
  {
   "cell_type": "code",
   "execution_count": 359,
   "metadata": {},
   "outputs": [],
   "source": [
    "df.drop(columns= 'Unnamed: 0', inplace= True) # this column doesn't have any useful information"
   ]
  },
  {
   "cell_type": "code",
   "execution_count": 360,
   "metadata": {},
   "outputs": [
    {
     "data": {
      "text/html": [
       "<div>\n",
       "<style scoped>\n",
       "    .dataframe tbody tr th:only-of-type {\n",
       "        vertical-align: middle;\n",
       "    }\n",
       "\n",
       "    .dataframe tbody tr th {\n",
       "        vertical-align: top;\n",
       "    }\n",
       "\n",
       "    .dataframe thead th {\n",
       "        text-align: right;\n",
       "    }\n",
       "</style>\n",
       "<table border=\"1\" class=\"dataframe\">\n",
       "  <thead>\n",
       "    <tr style=\"text-align: right;\">\n",
       "      <th></th>\n",
       "      <th>Brand</th>\n",
       "      <th>Model</th>\n",
       "      <th>Body</th>\n",
       "      <th>Color</th>\n",
       "      <th>Year</th>\n",
       "      <th>Fuel</th>\n",
       "      <th>Kilometers</th>\n",
       "      <th>Engine</th>\n",
       "      <th>Transmission</th>\n",
       "      <th>Price</th>\n",
       "      <th>Gov</th>\n",
       "    </tr>\n",
       "  </thead>\n",
       "  <tbody>\n",
       "    <tr>\n",
       "      <th>0</th>\n",
       "      <td>Hyundai</td>\n",
       "      <td>Accent</td>\n",
       "      <td>Sedan</td>\n",
       "      <td>Black</td>\n",
       "      <td>2007</td>\n",
       "      <td>Benzine</td>\n",
       "      <td>140000 to 159999</td>\n",
       "      <td>1600 CC</td>\n",
       "      <td>Automatic</td>\n",
       "      <td>140.0</td>\n",
       "      <td>Giza</td>\n",
       "    </tr>\n",
       "    <tr>\n",
       "      <th>1</th>\n",
       "      <td>Hyundai</td>\n",
       "      <td>Accent</td>\n",
       "      <td>Sedan</td>\n",
       "      <td>Silver</td>\n",
       "      <td>2005</td>\n",
       "      <td>Benzine</td>\n",
       "      <td>180000 to 199999</td>\n",
       "      <td>1000 - 1300 CC</td>\n",
       "      <td>Manual</td>\n",
       "      <td>78.0</td>\n",
       "      <td>Qena</td>\n",
       "    </tr>\n",
       "  </tbody>\n",
       "</table>\n",
       "</div>"
      ],
      "text/plain": [
       "     Brand   Model   Body   Color  Year     Fuel        Kilometers  \\\n",
       "0  Hyundai  Accent  Sedan   Black  2007  Benzine  140000 to 159999   \n",
       "1  Hyundai  Accent  Sedan  Silver  2005  Benzine  180000 to 199999   \n",
       "\n",
       "           Engine Transmission  Price   Gov  \n",
       "0         1600 CC    Automatic  140.0  Giza  \n",
       "1  1000 - 1300 CC       Manual   78.0  Qena  "
      ]
     },
     "execution_count": 360,
     "metadata": {},
     "output_type": "execute_result"
    }
   ],
   "source": [
    "df.head(2)"
   ]
  },
  {
   "attachments": {},
   "cell_type": "markdown",
   "metadata": {},
   "source": [
    "#### 2.2 Check Duplicates & Null values"
   ]
  },
  {
   "cell_type": "code",
   "execution_count": 361,
   "metadata": {},
   "outputs": [
    {
     "data": {
      "text/plain": [
       "1"
      ]
     },
     "execution_count": 361,
     "metadata": {},
     "output_type": "execute_result"
    }
   ],
   "source": [
    "df.duplicated().sum() # it seems there is no duplicated rows (1 entry mayn't an error)"
   ]
  },
  {
   "cell_type": "code",
   "execution_count": 362,
   "metadata": {},
   "outputs": [
    {
     "data": {
      "text/plain": [
       "Brand           0\n",
       "Model           0\n",
       "Body            0\n",
       "Color           0\n",
       "Year            0\n",
       "Fuel            0\n",
       "Kilometers      0\n",
       "Engine          0\n",
       "Transmission    0\n",
       "Price           0\n",
       "Gov             0\n",
       "dtype: int64"
      ]
     },
     "execution_count": 362,
     "metadata": {},
     "output_type": "execute_result"
    }
   ],
   "source": [
    "df.isnull().sum() # No Null values"
   ]
  },
  {
   "attachments": {},
   "cell_type": "markdown",
   "metadata": {},
   "source": [
    "#### 2.3 Type transformation for some Columns"
   ]
  },
  {
   "cell_type": "code",
   "execution_count": 363,
   "metadata": {},
   "outputs": [
    {
     "name": "stdout",
     "output_type": "stream",
     "text": [
      "<class 'pandas.core.frame.DataFrame'>\n",
      "RangeIndex: 14741 entries, 0 to 14740\n",
      "Data columns (total 11 columns):\n",
      " #   Column        Non-Null Count  Dtype  \n",
      "---  ------        --------------  -----  \n",
      " 0   Brand         14741 non-null  object \n",
      " 1   Model         14741 non-null  object \n",
      " 2   Body          14741 non-null  object \n",
      " 3   Color         14741 non-null  object \n",
      " 4   Year          14741 non-null  int64  \n",
      " 5   Fuel          14741 non-null  object \n",
      " 6   Kilometers    14741 non-null  object \n",
      " 7   Engine        14741 non-null  object \n",
      " 8   Transmission  14741 non-null  object \n",
      " 9   Price         14741 non-null  float64\n",
      " 10  Gov           14741 non-null  object \n",
      "dtypes: float64(1), int64(1), object(9)\n",
      "memory usage: 1.2+ MB\n"
     ]
    }
   ],
   "source": [
    "df.info() # I think Kilometers & Engine needed to be transformed "
   ]
  },
  {
   "cell_type": "code",
   "execution_count": 364,
   "metadata": {},
   "outputs": [
    {
     "data": {
      "text/plain": [
       "More than 200000    2505\n",
       "10000 to 19999      1666\n",
       "180000 to 199999    1349\n",
       "100000 to 119999    1192\n",
       "0 to 9999           1088\n",
       "140000 to 159999    1064\n",
       "120000 to 139999    1005\n",
       "90000 to 99999       996\n",
       "160000 to 179999     760\n",
       "20000 to 29999       612\n",
       "80000 to 89999       560\n",
       "50000 to 59999       436\n",
       "60000 to 69999       402\n",
       "40000 to 49999       372\n",
       "30000 to 39999       370\n",
       "70000 to 79999       364\n",
       "Name: Kilometers, dtype: int64"
      ]
     },
     "execution_count": 364,
     "metadata": {},
     "output_type": "execute_result"
    }
   ],
   "source": [
    "df.Kilometers.value_counts() # we know when kilometers increases, the value of the car goes down so we will transform it into ordinal numbers"
   ]
  },
  {
   "cell_type": "code",
   "execution_count": 365,
   "metadata": {},
   "outputs": [],
   "source": [
    "kilometer_map = {'0 to 9999': 1, '10000 to 19999': 2, '100000 to 119999': 3, '20000 to 29999': 4, '30000 to 39999': 5,\n",
    "                 '40000 to 49999': 6, '50000 to 59999': 7, '60000 to 69999': 8, '70000 to 79999': 9,  '80000 to 89999': 10, \n",
    "                   '90000 to 99999': 11,  '100000 to 119999': 12,  '120000 to 139999': 13,  '140000 to 159999': 14,\n",
    "                   '160000 to 179999': 15,  '180000 to 199999': 16, 'More than 200000': 17\n",
    "                 }"
   ]
  },
  {
   "cell_type": "code",
   "execution_count": 366,
   "metadata": {},
   "outputs": [],
   "source": [
    "df.Kilometers = df.Kilometers.map(kilometer_map)"
   ]
  },
  {
   "cell_type": "code",
   "execution_count": 367,
   "metadata": {},
   "outputs": [],
   "source": [
    "engine_map = {'1600 CC': 1, '1400 - 1500 CC': 2, '1000 - 1300 CC': 3} # when \"CC\" increases, the value increases also."
   ]
  },
  {
   "cell_type": "code",
   "execution_count": 368,
   "metadata": {},
   "outputs": [],
   "source": [
    "df.Engine = df.Engine.map(engine_map)"
   ]
  },
  {
   "cell_type": "code",
   "execution_count": 369,
   "metadata": {},
   "outputs": [],
   "source": [
    "df['Price'] = df['Price'] * 1000"
   ]
  },
  {
   "cell_type": "code",
   "execution_count": 370,
   "metadata": {},
   "outputs": [
    {
     "data": {
      "text/plain": [
       "dtype('float64')"
      ]
     },
     "execution_count": 370,
     "metadata": {},
     "output_type": "execute_result"
    }
   ],
   "source": [
    "df.Price.dtype"
   ]
  },
  {
   "cell_type": "code",
   "execution_count": 371,
   "metadata": {},
   "outputs": [
    {
     "data": {
      "text/html": [
       "<div>\n",
       "<style scoped>\n",
       "    .dataframe tbody tr th:only-of-type {\n",
       "        vertical-align: middle;\n",
       "    }\n",
       "\n",
       "    .dataframe tbody tr th {\n",
       "        vertical-align: top;\n",
       "    }\n",
       "\n",
       "    .dataframe thead th {\n",
       "        text-align: right;\n",
       "    }\n",
       "</style>\n",
       "<table border=\"1\" class=\"dataframe\">\n",
       "  <thead>\n",
       "    <tr style=\"text-align: right;\">\n",
       "      <th></th>\n",
       "      <th>Year</th>\n",
       "      <th>Kilometers</th>\n",
       "      <th>Engine</th>\n",
       "      <th>Price</th>\n",
       "    </tr>\n",
       "  </thead>\n",
       "  <tbody>\n",
       "    <tr>\n",
       "      <th>Year</th>\n",
       "      <td>1.000000</td>\n",
       "      <td>-0.206538</td>\n",
       "      <td>-0.583390</td>\n",
       "      <td>0.774288</td>\n",
       "    </tr>\n",
       "    <tr>\n",
       "      <th>Kilometers</th>\n",
       "      <td>-0.206538</td>\n",
       "      <td>1.000000</td>\n",
       "      <td>0.191459</td>\n",
       "      <td>-0.187870</td>\n",
       "    </tr>\n",
       "    <tr>\n",
       "      <th>Engine</th>\n",
       "      <td>-0.583390</td>\n",
       "      <td>0.191459</td>\n",
       "      <td>1.000000</td>\n",
       "      <td>-0.605300</td>\n",
       "    </tr>\n",
       "    <tr>\n",
       "      <th>Price</th>\n",
       "      <td>0.774288</td>\n",
       "      <td>-0.187870</td>\n",
       "      <td>-0.605300</td>\n",
       "      <td>1.000000</td>\n",
       "    </tr>\n",
       "  </tbody>\n",
       "</table>\n",
       "</div>"
      ],
      "text/plain": [
       "                Year  Kilometers    Engine     Price\n",
       "Year        1.000000   -0.206538 -0.583390  0.774288\n",
       "Kilometers -0.206538    1.000000  0.191459 -0.187870\n",
       "Engine     -0.583390    0.191459  1.000000 -0.605300\n",
       "Price       0.774288   -0.187870 -0.605300  1.000000"
      ]
     },
     "execution_count": 371,
     "metadata": {},
     "output_type": "execute_result"
    }
   ],
   "source": [
    "df.corr() # the negative sign between (Price & Kilometers, Price & Engine size) confirms the nature of relation we said above."
   ]
  },
  {
   "cell_type": "code",
   "execution_count": 372,
   "metadata": {},
   "outputs": [],
   "source": [
    "# df['Price'] = df['Price'].apply(lambda x: \"{:,.0f}\".format)"
   ]
  },
  {
   "cell_type": "code",
   "execution_count": 373,
   "metadata": {},
   "outputs": [],
   "source": [
    "# df.Price = df.Price.map('{:,.0f}'.format) # to make price more readable"
   ]
  },
  {
   "cell_type": "code",
   "execution_count": 374,
   "metadata": {},
   "outputs": [],
   "source": [
    "# df.Price.dtype"
   ]
  },
  {
   "attachments": {},
   "cell_type": "markdown",
   "metadata": {},
   "source": [
    "#### 2.4 Feature Engineering (Using Age instead of Year for ML Algorithm) "
   ]
  },
  {
   "cell_type": "code",
   "execution_count": 375,
   "metadata": {},
   "outputs": [],
   "source": [
    "from datetime import datetime"
   ]
  },
  {
   "cell_type": "code",
   "execution_count": 376,
   "metadata": {},
   "outputs": [],
   "source": [
    "current_year = datetime.today().year # saving current year in variable"
   ]
  },
  {
   "cell_type": "code",
   "execution_count": 377,
   "metadata": {},
   "outputs": [],
   "source": [
    "df['Age'] = current_year - df['Year'] # creat a new column has the same information of \"Year\" but in better way"
   ]
  },
  {
   "cell_type": "code",
   "execution_count": 378,
   "metadata": {},
   "outputs": [
    {
     "data": {
      "text/html": [
       "<div>\n",
       "<style scoped>\n",
       "    .dataframe tbody tr th:only-of-type {\n",
       "        vertical-align: middle;\n",
       "    }\n",
       "\n",
       "    .dataframe tbody tr th {\n",
       "        vertical-align: top;\n",
       "    }\n",
       "\n",
       "    .dataframe thead th {\n",
       "        text-align: right;\n",
       "    }\n",
       "</style>\n",
       "<table border=\"1\" class=\"dataframe\">\n",
       "  <thead>\n",
       "    <tr style=\"text-align: right;\">\n",
       "      <th></th>\n",
       "      <th>Brand</th>\n",
       "      <th>Model</th>\n",
       "      <th>Body</th>\n",
       "      <th>Color</th>\n",
       "      <th>Year</th>\n",
       "      <th>Fuel</th>\n",
       "      <th>Kilometers</th>\n",
       "      <th>Engine</th>\n",
       "      <th>Transmission</th>\n",
       "      <th>Price</th>\n",
       "      <th>Gov</th>\n",
       "      <th>Age</th>\n",
       "    </tr>\n",
       "  </thead>\n",
       "  <tbody>\n",
       "    <tr>\n",
       "      <th>0</th>\n",
       "      <td>Hyundai</td>\n",
       "      <td>Accent</td>\n",
       "      <td>Sedan</td>\n",
       "      <td>Black</td>\n",
       "      <td>2007</td>\n",
       "      <td>Benzine</td>\n",
       "      <td>14</td>\n",
       "      <td>1</td>\n",
       "      <td>Automatic</td>\n",
       "      <td>140000.0</td>\n",
       "      <td>Giza</td>\n",
       "      <td>16</td>\n",
       "    </tr>\n",
       "    <tr>\n",
       "      <th>1</th>\n",
       "      <td>Hyundai</td>\n",
       "      <td>Accent</td>\n",
       "      <td>Sedan</td>\n",
       "      <td>Silver</td>\n",
       "      <td>2005</td>\n",
       "      <td>Benzine</td>\n",
       "      <td>16</td>\n",
       "      <td>3</td>\n",
       "      <td>Manual</td>\n",
       "      <td>78000.0</td>\n",
       "      <td>Qena</td>\n",
       "      <td>18</td>\n",
       "    </tr>\n",
       "  </tbody>\n",
       "</table>\n",
       "</div>"
      ],
      "text/plain": [
       "     Brand   Model   Body   Color  Year     Fuel  Kilometers  Engine  \\\n",
       "0  Hyundai  Accent  Sedan   Black  2007  Benzine          14       1   \n",
       "1  Hyundai  Accent  Sedan  Silver  2005  Benzine          16       3   \n",
       "\n",
       "  Transmission     Price   Gov  Age  \n",
       "0    Automatic  140000.0  Giza   16  \n",
       "1       Manual   78000.0  Qena   18  "
      ]
     },
     "execution_count": 378,
     "metadata": {},
     "output_type": "execute_result"
    }
   ],
   "source": [
    "df.head(2)"
   ]
  },
  {
   "cell_type": "code",
   "execution_count": 379,
   "metadata": {},
   "outputs": [
    {
     "data": {
      "text/html": [
       "<div>\n",
       "<style scoped>\n",
       "    .dataframe tbody tr th:only-of-type {\n",
       "        vertical-align: middle;\n",
       "    }\n",
       "\n",
       "    .dataframe tbody tr th {\n",
       "        vertical-align: top;\n",
       "    }\n",
       "\n",
       "    .dataframe thead th {\n",
       "        text-align: right;\n",
       "    }\n",
       "</style>\n",
       "<table border=\"1\" class=\"dataframe\">\n",
       "  <thead>\n",
       "    <tr style=\"text-align: right;\">\n",
       "      <th></th>\n",
       "      <th>Year</th>\n",
       "      <th>Kilometers</th>\n",
       "      <th>Engine</th>\n",
       "      <th>Price</th>\n",
       "      <th>Age</th>\n",
       "    </tr>\n",
       "  </thead>\n",
       "  <tbody>\n",
       "    <tr>\n",
       "      <th>Year</th>\n",
       "      <td>1.000000</td>\n",
       "      <td>-0.206538</td>\n",
       "      <td>-0.583390</td>\n",
       "      <td>0.774288</td>\n",
       "      <td>-1.000000</td>\n",
       "    </tr>\n",
       "    <tr>\n",
       "      <th>Kilometers</th>\n",
       "      <td>-0.206538</td>\n",
       "      <td>1.000000</td>\n",
       "      <td>0.191459</td>\n",
       "      <td>-0.187870</td>\n",
       "      <td>0.206538</td>\n",
       "    </tr>\n",
       "    <tr>\n",
       "      <th>Engine</th>\n",
       "      <td>-0.583390</td>\n",
       "      <td>0.191459</td>\n",
       "      <td>1.000000</td>\n",
       "      <td>-0.605300</td>\n",
       "      <td>0.583390</td>\n",
       "    </tr>\n",
       "    <tr>\n",
       "      <th>Price</th>\n",
       "      <td>0.774288</td>\n",
       "      <td>-0.187870</td>\n",
       "      <td>-0.605300</td>\n",
       "      <td>1.000000</td>\n",
       "      <td>-0.774288</td>\n",
       "    </tr>\n",
       "    <tr>\n",
       "      <th>Age</th>\n",
       "      <td>-1.000000</td>\n",
       "      <td>0.206538</td>\n",
       "      <td>0.583390</td>\n",
       "      <td>-0.774288</td>\n",
       "      <td>1.000000</td>\n",
       "    </tr>\n",
       "  </tbody>\n",
       "</table>\n",
       "</div>"
      ],
      "text/plain": [
       "                Year  Kilometers    Engine     Price       Age\n",
       "Year        1.000000   -0.206538 -0.583390  0.774288 -1.000000\n",
       "Kilometers -0.206538    1.000000  0.191459 -0.187870  0.206538\n",
       "Engine     -0.583390    0.191459  1.000000 -0.605300  0.583390\n",
       "Price       0.774288   -0.187870 -0.605300  1.000000 -0.774288\n",
       "Age        -1.000000    0.206538  0.583390 -0.774288  1.000000"
      ]
     },
     "execution_count": 379,
     "metadata": {},
     "output_type": "execute_result"
    }
   ],
   "source": [
    "df.corr() # As we expect, when the Age goes up the price goes down. (0.77) says there is a strong correlation between \"Age & target\""
   ]
  },
  {
   "cell_type": "code",
   "execution_count": 380,
   "metadata": {},
   "outputs": [],
   "source": [
    "bar_data = df.groupby('Model')['Price'].mean().reset_index().sort_values('Price', ascending = True) # simple exploration for average price gor each model\n",
    "fig_bar = px.bar(bar_data, x= 'Price', y= 'Model') "
   ]
  },
  {
   "cell_type": "code",
   "execution_count": 381,
   "metadata": {},
   "outputs": [
    {
     "data": {
      "application/vnd.plotly.v1+json": {
       "config": {
        "plotlyServerURL": "https://plot.ly"
       },
       "data": [
        {
         "alignmentgroup": "True",
         "hovertemplate": "Price=%{x}<br>Model=%{y}<extra></extra>",
         "legendgroup": "",
         "marker": {
          "color": "#636efa",
          "pattern": {
           "shape": ""
          }
         },
         "name": "",
         "offsetgroup": "",
         "orientation": "h",
         "showlegend": false,
         "textposition": "auto",
         "type": "bar",
         "x": [
          22580.865979381444,
          29055.244755244756,
          46078.28571428572,
          47639.054290718035,
          51607.77777777778,
          81478.88888888889,
          112784.20268256334,
          122277.67295597485,
          124509.35365212822,
          141558.953722334,
          144333.73493975904,
          165593.6567164179,
          170173.80191693292,
          175298.35164835164,
          177417.02127659574,
          178701.86915887852,
          218423.47939829953,
          334655.1094890511
         ],
         "xaxis": "x",
         "y": [
          "128",
          "131",
          "Uno",
          "Shahin",
          "Excel",
          "Punto",
          "Lanos",
          "Accent",
          "Verna",
          "Aveo",
          "I10",
          "Matrix",
          "Optra",
          "Tucson",
          "Avante",
          "Cruze",
          "Elantra",
          "Tipo"
         ],
         "yaxis": "y"
        }
       ],
       "layout": {
        "barmode": "relative",
        "legend": {
         "tracegroupgap": 0
        },
        "margin": {
         "t": 60
        },
        "template": {
         "data": {
          "bar": [
           {
            "error_x": {
             "color": "#2a3f5f"
            },
            "error_y": {
             "color": "#2a3f5f"
            },
            "marker": {
             "line": {
              "color": "#E5ECF6",
              "width": 0.5
             },
             "pattern": {
              "fillmode": "overlay",
              "size": 10,
              "solidity": 0.2
             }
            },
            "type": "bar"
           }
          ],
          "barpolar": [
           {
            "marker": {
             "line": {
              "color": "#E5ECF6",
              "width": 0.5
             },
             "pattern": {
              "fillmode": "overlay",
              "size": 10,
              "solidity": 0.2
             }
            },
            "type": "barpolar"
           }
          ],
          "carpet": [
           {
            "aaxis": {
             "endlinecolor": "#2a3f5f",
             "gridcolor": "white",
             "linecolor": "white",
             "minorgridcolor": "white",
             "startlinecolor": "#2a3f5f"
            },
            "baxis": {
             "endlinecolor": "#2a3f5f",
             "gridcolor": "white",
             "linecolor": "white",
             "minorgridcolor": "white",
             "startlinecolor": "#2a3f5f"
            },
            "type": "carpet"
           }
          ],
          "choropleth": [
           {
            "colorbar": {
             "outlinewidth": 0,
             "ticks": ""
            },
            "type": "choropleth"
           }
          ],
          "contour": [
           {
            "colorbar": {
             "outlinewidth": 0,
             "ticks": ""
            },
            "colorscale": [
             [
              0,
              "#0d0887"
             ],
             [
              0.1111111111111111,
              "#46039f"
             ],
             [
              0.2222222222222222,
              "#7201a8"
             ],
             [
              0.3333333333333333,
              "#9c179e"
             ],
             [
              0.4444444444444444,
              "#bd3786"
             ],
             [
              0.5555555555555556,
              "#d8576b"
             ],
             [
              0.6666666666666666,
              "#ed7953"
             ],
             [
              0.7777777777777778,
              "#fb9f3a"
             ],
             [
              0.8888888888888888,
              "#fdca26"
             ],
             [
              1,
              "#f0f921"
             ]
            ],
            "type": "contour"
           }
          ],
          "contourcarpet": [
           {
            "colorbar": {
             "outlinewidth": 0,
             "ticks": ""
            },
            "type": "contourcarpet"
           }
          ],
          "heatmap": [
           {
            "colorbar": {
             "outlinewidth": 0,
             "ticks": ""
            },
            "colorscale": [
             [
              0,
              "#0d0887"
             ],
             [
              0.1111111111111111,
              "#46039f"
             ],
             [
              0.2222222222222222,
              "#7201a8"
             ],
             [
              0.3333333333333333,
              "#9c179e"
             ],
             [
              0.4444444444444444,
              "#bd3786"
             ],
             [
              0.5555555555555556,
              "#d8576b"
             ],
             [
              0.6666666666666666,
              "#ed7953"
             ],
             [
              0.7777777777777778,
              "#fb9f3a"
             ],
             [
              0.8888888888888888,
              "#fdca26"
             ],
             [
              1,
              "#f0f921"
             ]
            ],
            "type": "heatmap"
           }
          ],
          "heatmapgl": [
           {
            "colorbar": {
             "outlinewidth": 0,
             "ticks": ""
            },
            "colorscale": [
             [
              0,
              "#0d0887"
             ],
             [
              0.1111111111111111,
              "#46039f"
             ],
             [
              0.2222222222222222,
              "#7201a8"
             ],
             [
              0.3333333333333333,
              "#9c179e"
             ],
             [
              0.4444444444444444,
              "#bd3786"
             ],
             [
              0.5555555555555556,
              "#d8576b"
             ],
             [
              0.6666666666666666,
              "#ed7953"
             ],
             [
              0.7777777777777778,
              "#fb9f3a"
             ],
             [
              0.8888888888888888,
              "#fdca26"
             ],
             [
              1,
              "#f0f921"
             ]
            ],
            "type": "heatmapgl"
           }
          ],
          "histogram": [
           {
            "marker": {
             "pattern": {
              "fillmode": "overlay",
              "size": 10,
              "solidity": 0.2
             }
            },
            "type": "histogram"
           }
          ],
          "histogram2d": [
           {
            "colorbar": {
             "outlinewidth": 0,
             "ticks": ""
            },
            "colorscale": [
             [
              0,
              "#0d0887"
             ],
             [
              0.1111111111111111,
              "#46039f"
             ],
             [
              0.2222222222222222,
              "#7201a8"
             ],
             [
              0.3333333333333333,
              "#9c179e"
             ],
             [
              0.4444444444444444,
              "#bd3786"
             ],
             [
              0.5555555555555556,
              "#d8576b"
             ],
             [
              0.6666666666666666,
              "#ed7953"
             ],
             [
              0.7777777777777778,
              "#fb9f3a"
             ],
             [
              0.8888888888888888,
              "#fdca26"
             ],
             [
              1,
              "#f0f921"
             ]
            ],
            "type": "histogram2d"
           }
          ],
          "histogram2dcontour": [
           {
            "colorbar": {
             "outlinewidth": 0,
             "ticks": ""
            },
            "colorscale": [
             [
              0,
              "#0d0887"
             ],
             [
              0.1111111111111111,
              "#46039f"
             ],
             [
              0.2222222222222222,
              "#7201a8"
             ],
             [
              0.3333333333333333,
              "#9c179e"
             ],
             [
              0.4444444444444444,
              "#bd3786"
             ],
             [
              0.5555555555555556,
              "#d8576b"
             ],
             [
              0.6666666666666666,
              "#ed7953"
             ],
             [
              0.7777777777777778,
              "#fb9f3a"
             ],
             [
              0.8888888888888888,
              "#fdca26"
             ],
             [
              1,
              "#f0f921"
             ]
            ],
            "type": "histogram2dcontour"
           }
          ],
          "mesh3d": [
           {
            "colorbar": {
             "outlinewidth": 0,
             "ticks": ""
            },
            "type": "mesh3d"
           }
          ],
          "parcoords": [
           {
            "line": {
             "colorbar": {
              "outlinewidth": 0,
              "ticks": ""
             }
            },
            "type": "parcoords"
           }
          ],
          "pie": [
           {
            "automargin": true,
            "type": "pie"
           }
          ],
          "scatter": [
           {
            "fillpattern": {
             "fillmode": "overlay",
             "size": 10,
             "solidity": 0.2
            },
            "type": "scatter"
           }
          ],
          "scatter3d": [
           {
            "line": {
             "colorbar": {
              "outlinewidth": 0,
              "ticks": ""
             }
            },
            "marker": {
             "colorbar": {
              "outlinewidth": 0,
              "ticks": ""
             }
            },
            "type": "scatter3d"
           }
          ],
          "scattercarpet": [
           {
            "marker": {
             "colorbar": {
              "outlinewidth": 0,
              "ticks": ""
             }
            },
            "type": "scattercarpet"
           }
          ],
          "scattergeo": [
           {
            "marker": {
             "colorbar": {
              "outlinewidth": 0,
              "ticks": ""
             }
            },
            "type": "scattergeo"
           }
          ],
          "scattergl": [
           {
            "marker": {
             "colorbar": {
              "outlinewidth": 0,
              "ticks": ""
             }
            },
            "type": "scattergl"
           }
          ],
          "scattermapbox": [
           {
            "marker": {
             "colorbar": {
              "outlinewidth": 0,
              "ticks": ""
             }
            },
            "type": "scattermapbox"
           }
          ],
          "scatterpolar": [
           {
            "marker": {
             "colorbar": {
              "outlinewidth": 0,
              "ticks": ""
             }
            },
            "type": "scatterpolar"
           }
          ],
          "scatterpolargl": [
           {
            "marker": {
             "colorbar": {
              "outlinewidth": 0,
              "ticks": ""
             }
            },
            "type": "scatterpolargl"
           }
          ],
          "scatterternary": [
           {
            "marker": {
             "colorbar": {
              "outlinewidth": 0,
              "ticks": ""
             }
            },
            "type": "scatterternary"
           }
          ],
          "surface": [
           {
            "colorbar": {
             "outlinewidth": 0,
             "ticks": ""
            },
            "colorscale": [
             [
              0,
              "#0d0887"
             ],
             [
              0.1111111111111111,
              "#46039f"
             ],
             [
              0.2222222222222222,
              "#7201a8"
             ],
             [
              0.3333333333333333,
              "#9c179e"
             ],
             [
              0.4444444444444444,
              "#bd3786"
             ],
             [
              0.5555555555555556,
              "#d8576b"
             ],
             [
              0.6666666666666666,
              "#ed7953"
             ],
             [
              0.7777777777777778,
              "#fb9f3a"
             ],
             [
              0.8888888888888888,
              "#fdca26"
             ],
             [
              1,
              "#f0f921"
             ]
            ],
            "type": "surface"
           }
          ],
          "table": [
           {
            "cells": {
             "fill": {
              "color": "#EBF0F8"
             },
             "line": {
              "color": "white"
             }
            },
            "header": {
             "fill": {
              "color": "#C8D4E3"
             },
             "line": {
              "color": "white"
             }
            },
            "type": "table"
           }
          ]
         },
         "layout": {
          "annotationdefaults": {
           "arrowcolor": "#2a3f5f",
           "arrowhead": 0,
           "arrowwidth": 1
          },
          "autotypenumbers": "strict",
          "coloraxis": {
           "colorbar": {
            "outlinewidth": 0,
            "ticks": ""
           }
          },
          "colorscale": {
           "diverging": [
            [
             0,
             "#8e0152"
            ],
            [
             0.1,
             "#c51b7d"
            ],
            [
             0.2,
             "#de77ae"
            ],
            [
             0.3,
             "#f1b6da"
            ],
            [
             0.4,
             "#fde0ef"
            ],
            [
             0.5,
             "#f7f7f7"
            ],
            [
             0.6,
             "#e6f5d0"
            ],
            [
             0.7,
             "#b8e186"
            ],
            [
             0.8,
             "#7fbc41"
            ],
            [
             0.9,
             "#4d9221"
            ],
            [
             1,
             "#276419"
            ]
           ],
           "sequential": [
            [
             0,
             "#0d0887"
            ],
            [
             0.1111111111111111,
             "#46039f"
            ],
            [
             0.2222222222222222,
             "#7201a8"
            ],
            [
             0.3333333333333333,
             "#9c179e"
            ],
            [
             0.4444444444444444,
             "#bd3786"
            ],
            [
             0.5555555555555556,
             "#d8576b"
            ],
            [
             0.6666666666666666,
             "#ed7953"
            ],
            [
             0.7777777777777778,
             "#fb9f3a"
            ],
            [
             0.8888888888888888,
             "#fdca26"
            ],
            [
             1,
             "#f0f921"
            ]
           ],
           "sequentialminus": [
            [
             0,
             "#0d0887"
            ],
            [
             0.1111111111111111,
             "#46039f"
            ],
            [
             0.2222222222222222,
             "#7201a8"
            ],
            [
             0.3333333333333333,
             "#9c179e"
            ],
            [
             0.4444444444444444,
             "#bd3786"
            ],
            [
             0.5555555555555556,
             "#d8576b"
            ],
            [
             0.6666666666666666,
             "#ed7953"
            ],
            [
             0.7777777777777778,
             "#fb9f3a"
            ],
            [
             0.8888888888888888,
             "#fdca26"
            ],
            [
             1,
             "#f0f921"
            ]
           ]
          },
          "colorway": [
           "#636efa",
           "#EF553B",
           "#00cc96",
           "#ab63fa",
           "#FFA15A",
           "#19d3f3",
           "#FF6692",
           "#B6E880",
           "#FF97FF",
           "#FECB52"
          ],
          "font": {
           "color": "#2a3f5f"
          },
          "geo": {
           "bgcolor": "white",
           "lakecolor": "white",
           "landcolor": "#E5ECF6",
           "showlakes": true,
           "showland": true,
           "subunitcolor": "white"
          },
          "hoverlabel": {
           "align": "left"
          },
          "hovermode": "closest",
          "mapbox": {
           "style": "light"
          },
          "paper_bgcolor": "white",
          "plot_bgcolor": "#E5ECF6",
          "polar": {
           "angularaxis": {
            "gridcolor": "white",
            "linecolor": "white",
            "ticks": ""
           },
           "bgcolor": "#E5ECF6",
           "radialaxis": {
            "gridcolor": "white",
            "linecolor": "white",
            "ticks": ""
           }
          },
          "scene": {
           "xaxis": {
            "backgroundcolor": "#E5ECF6",
            "gridcolor": "white",
            "gridwidth": 2,
            "linecolor": "white",
            "showbackground": true,
            "ticks": "",
            "zerolinecolor": "white"
           },
           "yaxis": {
            "backgroundcolor": "#E5ECF6",
            "gridcolor": "white",
            "gridwidth": 2,
            "linecolor": "white",
            "showbackground": true,
            "ticks": "",
            "zerolinecolor": "white"
           },
           "zaxis": {
            "backgroundcolor": "#E5ECF6",
            "gridcolor": "white",
            "gridwidth": 2,
            "linecolor": "white",
            "showbackground": true,
            "ticks": "",
            "zerolinecolor": "white"
           }
          },
          "shapedefaults": {
           "line": {
            "color": "#2a3f5f"
           }
          },
          "ternary": {
           "aaxis": {
            "gridcolor": "white",
            "linecolor": "white",
            "ticks": ""
           },
           "baxis": {
            "gridcolor": "white",
            "linecolor": "white",
            "ticks": ""
           },
           "bgcolor": "#E5ECF6",
           "caxis": {
            "gridcolor": "white",
            "linecolor": "white",
            "ticks": ""
           }
          },
          "title": {
           "x": 0.05
          },
          "xaxis": {
           "automargin": true,
           "gridcolor": "white",
           "linecolor": "white",
           "ticks": "",
           "title": {
            "standoff": 15
           },
           "zerolinecolor": "white",
           "zerolinewidth": 2
          },
          "yaxis": {
           "automargin": true,
           "gridcolor": "white",
           "linecolor": "white",
           "ticks": "",
           "title": {
            "standoff": 15
           },
           "zerolinecolor": "white",
           "zerolinewidth": 2
          }
         }
        },
        "xaxis": {
         "anchor": "y",
         "domain": [
          0,
          1
         ],
         "title": {
          "text": "Price"
         }
        },
        "yaxis": {
         "anchor": "x",
         "domain": [
          0,
          1
         ],
         "title": {
          "text": "Model"
         }
        }
       }
      }
     },
     "metadata": {},
     "output_type": "display_data"
    }
   ],
   "source": [
    "fig_bar.show()"
   ]
  },
  {
   "cell_type": "code",
   "execution_count": 382,
   "metadata": {},
   "outputs": [
    {
     "data": {
      "text/plain": [
       "123344.0"
      ]
     },
     "execution_count": 382,
     "metadata": {},
     "output_type": "execute_result"
    }
   ],
   "source": [
    "df[(df['Model'] == 'Aveo') & (df['Year'] == 2011)]['Price'].mean() # you can choose the model and year you want to explore its avearge price"
   ]
  },
  {
   "attachments": {},
   "cell_type": "markdown",
   "metadata": {},
   "source": [
    "## 3- Preprocessing"
   ]
  },
  {
   "attachments": {},
   "cell_type": "markdown",
   "metadata": {},
   "source": [
    "#### 3.1 Drop \"Year\" column (use \"Age\" instead) "
   ]
  },
  {
   "cell_type": "code",
   "execution_count": 383,
   "metadata": {},
   "outputs": [],
   "source": [
    "df.drop(columns= ['Year'], inplace= True) # we don't need it any more"
   ]
  },
  {
   "cell_type": "code",
   "execution_count": 384,
   "metadata": {},
   "outputs": [],
   "source": [
    "# df.to_csv('Cars_cleaned.csv')"
   ]
  },
  {
   "attachments": {},
   "cell_type": "markdown",
   "metadata": {},
   "source": [
    "#### 3.2 Providing categorical columns"
   ]
  },
  {
   "cell_type": "code",
   "execution_count": 385,
   "metadata": {},
   "outputs": [
    {
     "data": {
      "text/plain": [
       "['Brand', 'Model', 'Body', 'Color', 'Fuel', 'Transmission', 'Gov']"
      ]
     },
     "execution_count": 385,
     "metadata": {},
     "output_type": "execute_result"
    }
   ],
   "source": [
    "cat_cols = list(df.select_dtypes(include= 'O').columns) # select categorical columns & saving in list\n",
    "cat_cols "
   ]
  },
  {
   "attachments": {},
   "cell_type": "markdown",
   "metadata": {},
   "source": [
    "#### 3.3 Providing numerical columns"
   ]
  },
  {
   "cell_type": "code",
   "execution_count": 386,
   "metadata": {},
   "outputs": [
    {
     "data": {
      "text/plain": [
       "['Kilometers', 'Engine', 'Age']"
      ]
     },
     "execution_count": 386,
     "metadata": {},
     "output_type": "execute_result"
    }
   ],
   "source": [
    "num_cols = list(df.select_dtypes(include= 'number').columns) # select numerical columns & saving in list\n",
    "num_cols.remove('Price') # we don't need to scale the target \n",
    "num_cols"
   ]
  },
  {
   "cell_type": "code",
   "execution_count": 387,
   "metadata": {},
   "outputs": [],
   "source": [
    "# df = pd.get_dummies(df, columns=cat_cols, drop_first=True) # one hot encoder using pandas"
   ]
  },
  {
   "attachments": {},
   "cell_type": "markdown",
   "metadata": {},
   "source": [
    "#### 3.4 Creating the transformer"
   ]
  },
  {
   "attachments": {},
   "cell_type": "markdown",
   "metadata": {},
   "source": [
    "##### - The transformer is a black box contains all functions you will apply to entries to extract data in a form that your model can deal with.\n",
    "##### - So it's a group of functions called in the main function which returns the transformer (an object has its methods we should provide) "
   ]
  },
  {
   "cell_type": "code",
   "execution_count": 388,
   "metadata": {},
   "outputs": [],
   "source": [
    "from sklearn.preprocessing import OneHotEncoder # library to encode categorical columns\n",
    "from sklearn.preprocessing import StandardScaler # library to scale numerical columns \n",
    "from sklearn.compose import make_column_transformer # library to save our transformer"
   ]
  },
  {
   "attachments": {},
   "cell_type": "markdown",
   "metadata": {},
   "source": [
    "##### - Here we have just 2 functions which will be created & called in the main transformer function. \n",
    "##### - Note that: you can create the functions out of the main function and then call them in the main function (this strategy will be better in case of more than 2 functions & with more complex functions). "
   ]
  },
  {
   "cell_type": "code",
   "execution_count": 389,
   "metadata": {},
   "outputs": [],
   "source": [
    "# The main transformer function\n",
    "def preprocess(X_train, cat_cols, num_cols):\n",
    "    '''\n",
    "    Transformes the entries in a form that a model can deal with.\n",
    "    Scales the numerical values, and encodes the categorical ones.\n",
    "\n",
    "    Args:\n",
    "        X_train (data frame, pandas): Dataframe that transformer should learn from.\n",
    "        cat_cols (list): list of categorical features.\n",
    "        num_cols (list): list of numerical features.\n",
    "\n",
    "    Returns:\n",
    "        transformer (object): transformer \n",
    "\n",
    "    '''\n",
    "    sc = StandardScaler() # 1st function\n",
    "    ohe = OneHotEncoder(sparse= False, drop= 'first') # 2nd function\n",
    "    transformer = make_column_transformer((ohe,cat_cols),(sc,num_cols),remainder= 'passthrough',verbose_feature_names_out=False) # saving instance from transformer with methods and provide columns to apply in\n",
    "    transformer.fit(X_train[cat_cols+num_cols]) # fitting the transformer\n",
    "    return transformer"
   ]
  },
  {
   "attachments": {},
   "cell_type": "markdown",
   "metadata": {},
   "source": [
    "#### 3.5 Splitting the data"
   ]
  },
  {
   "cell_type": "code",
   "execution_count": 390,
   "metadata": {},
   "outputs": [],
   "source": [
    "from sklearn.model_selection import train_test_split"
   ]
  },
  {
   "cell_type": "code",
   "execution_count": 391,
   "metadata": {},
   "outputs": [],
   "source": [
    "X = df.drop('Price', axis= 1)\n",
    "y = df.Price"
   ]
  },
  {
   "cell_type": "code",
   "execution_count": 392,
   "metadata": {},
   "outputs": [
    {
     "name": "stdout",
     "output_type": "stream",
     "text": [
      "X_train Size:  (11792, 10)\n",
      "y_train Size:  (11792,)\n",
      "X_test Size:  (2949, 10)\n",
      "y_test Size:  (2949,)\n"
     ]
    }
   ],
   "source": [
    "X_train, X_test, y_train, y_test = train_test_split(X ,y ,test_size= 0.2, random_state= 10)\n",
    "print('X_train Size: ', X_train.shape)\n",
    "print('y_train Size: ', y_train.shape)\n",
    "print('X_test Size: ', X_test.shape)\n",
    "print('y_test Size: ', y_test.shape)"
   ]
  },
  {
   "cell_type": "code",
   "execution_count": 393,
   "metadata": {},
   "outputs": [
    {
     "data": {
      "text/html": [
       "<div>\n",
       "<style scoped>\n",
       "    .dataframe tbody tr th:only-of-type {\n",
       "        vertical-align: middle;\n",
       "    }\n",
       "\n",
       "    .dataframe tbody tr th {\n",
       "        vertical-align: top;\n",
       "    }\n",
       "\n",
       "    .dataframe thead th {\n",
       "        text-align: right;\n",
       "    }\n",
       "</style>\n",
       "<table border=\"1\" class=\"dataframe\">\n",
       "  <thead>\n",
       "    <tr style=\"text-align: right;\">\n",
       "      <th></th>\n",
       "      <th>Brand</th>\n",
       "      <th>Model</th>\n",
       "      <th>Body</th>\n",
       "      <th>Color</th>\n",
       "      <th>Fuel</th>\n",
       "      <th>Kilometers</th>\n",
       "      <th>Engine</th>\n",
       "      <th>Transmission</th>\n",
       "      <th>Gov</th>\n",
       "      <th>Age</th>\n",
       "    </tr>\n",
       "  </thead>\n",
       "  <tbody>\n",
       "    <tr>\n",
       "      <th>143</th>\n",
       "      <td>Hyundai</td>\n",
       "      <td>Accent</td>\n",
       "      <td>Sedan</td>\n",
       "      <td>Blue- Navy Blue</td>\n",
       "      <td>Benzine</td>\n",
       "      <td>15</td>\n",
       "      <td>1</td>\n",
       "      <td>Automatic</td>\n",
       "      <td>Fayoum</td>\n",
       "      <td>11</td>\n",
       "    </tr>\n",
       "  </tbody>\n",
       "</table>\n",
       "</div>"
      ],
      "text/plain": [
       "       Brand   Model   Body            Color     Fuel  Kilometers  Engine  \\\n",
       "143  Hyundai  Accent  Sedan  Blue- Navy Blue  Benzine          15       1   \n",
       "\n",
       "    Transmission     Gov  Age  \n",
       "143    Automatic  Fayoum   11  "
      ]
     },
     "execution_count": 393,
     "metadata": {},
     "output_type": "execute_result"
    }
   ],
   "source": [
    "X_train.head(1)"
   ]
  },
  {
   "cell_type": "code",
   "execution_count": 394,
   "metadata": {},
   "outputs": [
    {
     "data": {
      "text/plain": [
       "Brand             Hyundai\n",
       "Model               Verna\n",
       "Body                Sedan\n",
       "Color                Gray\n",
       "Fuel              Benzine\n",
       "Kilometers              1\n",
       "Engine                  1\n",
       "Transmission    Automatic\n",
       "Gov                  Giza\n",
       "Age                     6\n",
       "Name: 2198, dtype: object"
      ]
     },
     "execution_count": 394,
     "metadata": {},
     "output_type": "execute_result"
    }
   ],
   "source": [
    "X_test.iloc[10] # numpy array"
   ]
  },
  {
   "cell_type": "code",
   "execution_count": 395,
   "metadata": {},
   "outputs": [
    {
     "data": {
      "text/html": [
       "<div>\n",
       "<style scoped>\n",
       "    .dataframe tbody tr th:only-of-type {\n",
       "        vertical-align: middle;\n",
       "    }\n",
       "\n",
       "    .dataframe tbody tr th {\n",
       "        vertical-align: top;\n",
       "    }\n",
       "\n",
       "    .dataframe thead th {\n",
       "        text-align: right;\n",
       "    }\n",
       "</style>\n",
       "<table border=\"1\" class=\"dataframe\">\n",
       "  <thead>\n",
       "    <tr style=\"text-align: right;\">\n",
       "      <th></th>\n",
       "      <th>Brand</th>\n",
       "      <th>Model</th>\n",
       "      <th>Body</th>\n",
       "      <th>Color</th>\n",
       "      <th>Fuel</th>\n",
       "      <th>Kilometers</th>\n",
       "      <th>Engine</th>\n",
       "      <th>Transmission</th>\n",
       "      <th>Gov</th>\n",
       "      <th>Age</th>\n",
       "    </tr>\n",
       "  </thead>\n",
       "  <tbody>\n",
       "    <tr>\n",
       "      <th>11364</th>\n",
       "      <td>Fiat</td>\n",
       "      <td>Shahin</td>\n",
       "      <td>Sedan</td>\n",
       "      <td>Gray</td>\n",
       "      <td>Benzine</td>\n",
       "      <td>10</td>\n",
       "      <td>2</td>\n",
       "      <td>Manual</td>\n",
       "      <td>Sohag</td>\n",
       "      <td>16</td>\n",
       "    </tr>\n",
       "  </tbody>\n",
       "</table>\n",
       "</div>"
      ],
      "text/plain": [
       "      Brand   Model   Body Color     Fuel Kilometers Engine Transmission  \\\n",
       "11364  Fiat  Shahin  Sedan  Gray  Benzine         10      2       Manual   \n",
       "\n",
       "         Gov Age  \n",
       "11364  Sohag  16  "
      ]
     },
     "execution_count": 395,
     "metadata": {},
     "output_type": "execute_result"
    }
   ],
   "source": [
    "tst_smpl = pd.DataFrame(X_test.iloc[200]).T # here it's a dataframe, saving sample to use it in testing transformer\n",
    "tst_smpl"
   ]
  },
  {
   "cell_type": "code",
   "execution_count": 396,
   "metadata": {},
   "outputs": [
    {
     "name": "stdout",
     "output_type": "stream",
     "text": [
      "60000.0\n",
      "float64\n"
     ]
    }
   ],
   "source": [
    "tst_smpl_y = y_test.iloc[200]\n",
    "print(tst_smpl_y)\n",
    "print(tst_smpl_y.dtype)"
   ]
  },
  {
   "cell_type": "code",
   "execution_count": 397,
   "metadata": {},
   "outputs": [
    {
     "data": {
      "text/html": [
       "<div>\n",
       "<style scoped>\n",
       "    .dataframe tbody tr th:only-of-type {\n",
       "        vertical-align: middle;\n",
       "    }\n",
       "\n",
       "    .dataframe tbody tr th {\n",
       "        vertical-align: top;\n",
       "    }\n",
       "\n",
       "    .dataframe thead th {\n",
       "        text-align: right;\n",
       "    }\n",
       "</style>\n",
       "<table border=\"1\" class=\"dataframe\">\n",
       "  <thead>\n",
       "    <tr style=\"text-align: right;\">\n",
       "      <th></th>\n",
       "      <th>Brand</th>\n",
       "      <th>Model</th>\n",
       "      <th>Body</th>\n",
       "      <th>Color</th>\n",
       "      <th>Fuel</th>\n",
       "      <th>Kilometers</th>\n",
       "      <th>Engine</th>\n",
       "      <th>Transmission</th>\n",
       "      <th>Gov</th>\n",
       "      <th>Age</th>\n",
       "    </tr>\n",
       "  </thead>\n",
       "  <tbody>\n",
       "    <tr>\n",
       "      <th>2198</th>\n",
       "      <td>Hyundai</td>\n",
       "      <td>Verna</td>\n",
       "      <td>Sedan</td>\n",
       "      <td>Gray</td>\n",
       "      <td>Benzine</td>\n",
       "      <td>1</td>\n",
       "      <td>1</td>\n",
       "      <td>Automatic</td>\n",
       "      <td>Giza</td>\n",
       "      <td>6</td>\n",
       "    </tr>\n",
       "  </tbody>\n",
       "</table>\n",
       "</div>"
      ],
      "text/plain": [
       "        Brand  Model   Body Color     Fuel Kilometers Engine Transmission  \\\n",
       "2198  Hyundai  Verna  Sedan  Gray  Benzine          1      1    Automatic   \n",
       "\n",
       "       Gov Age  \n",
       "2198  Giza   6  "
      ]
     },
     "execution_count": 397,
     "metadata": {},
     "output_type": "execute_result"
    }
   ],
   "source": [
    "test_sample = pd.DataFrame(X_test.iloc[10]).T # saving sample to use it in testing transformer\n",
    "test_sample"
   ]
  },
  {
   "cell_type": "code",
   "execution_count": 398,
   "metadata": {},
   "outputs": [
    {
     "data": {
      "text/plain": [
       "170000.0"
      ]
     },
     "execution_count": 398,
     "metadata": {},
     "output_type": "execute_result"
    }
   ],
   "source": [
    "y_test.iloc[10]"
   ]
  },
  {
   "cell_type": "code",
   "execution_count": 399,
   "metadata": {},
   "outputs": [
    {
     "data": {
      "text/html": [
       "<div>\n",
       "<style scoped>\n",
       "    .dataframe tbody tr th:only-of-type {\n",
       "        vertical-align: middle;\n",
       "    }\n",
       "\n",
       "    .dataframe tbody tr th {\n",
       "        vertical-align: top;\n",
       "    }\n",
       "\n",
       "    .dataframe thead th {\n",
       "        text-align: right;\n",
       "    }\n",
       "</style>\n",
       "<table border=\"1\" class=\"dataframe\">\n",
       "  <thead>\n",
       "    <tr style=\"text-align: right;\">\n",
       "      <th></th>\n",
       "      <th>Price</th>\n",
       "    </tr>\n",
       "  </thead>\n",
       "  <tbody>\n",
       "    <tr>\n",
       "      <th>10</th>\n",
       "      <td>170000.0</td>\n",
       "    </tr>\n",
       "  </tbody>\n",
       "</table>\n",
       "</div>"
      ],
      "text/plain": [
       "       Price\n",
       "10  170000.0"
      ]
     },
     "execution_count": 399,
     "metadata": {},
     "output_type": "execute_result"
    }
   ],
   "source": [
    "test_sample_y = pd.DataFrame({'Price': y_test.iloc[10]}, index= [10]) # saving sample to use it in testing transformer\n",
    "test_sample_y"
   ]
  },
  {
   "cell_type": "code",
   "execution_count": 400,
   "metadata": {},
   "outputs": [
    {
     "name": "stdout",
     "output_type": "stream",
     "text": [
      "ColumnTransformer(remainder='passthrough',\n",
      "                  transformers=[('onehotencoder',\n",
      "                                 OneHotEncoder(drop='first', sparse=False),\n",
      "                                 ['Brand', 'Model', 'Body', 'Color', 'Fuel',\n",
      "                                  'Transmission', 'Gov']),\n",
      "                                ('standardscaler', StandardScaler(),\n",
      "                                 ['Kilometers', 'Engine', 'Age'])],\n",
      "                  verbose_feature_names_out=False)\n"
     ]
    }
   ],
   "source": [
    "transformer = preprocess(X_train, cat_cols, num_cols) # here we save the transformer fitted from X_train and ready to use\n",
    "print(transformer)"
   ]
  },
  {
   "cell_type": "code",
   "execution_count": 401,
   "metadata": {},
   "outputs": [],
   "source": [
    "X_train = transformer.transform(X_train[cat_cols+num_cols]) # Apply transformation to training data\n",
    "X_test = transformer.transform(X_test[cat_cols+num_cols]) # Apply transformation to test data"
   ]
  },
  {
   "cell_type": "code",
   "execution_count": 402,
   "metadata": {},
   "outputs": [
    {
     "data": {
      "text/plain": [
       "array([[ 0.        ,  1.        ,  0.        ,  0.        ,  0.        ,\n",
       "         0.        ,  0.        ,  0.        ,  0.        ,  0.        ,\n",
       "         0.        ,  0.        ,  0.        ,  0.        ,  0.        ,\n",
       "         0.        ,  0.        ,  0.        ,  1.        ,  0.        ,\n",
       "         1.        ,  0.        ,  0.        ,  0.        ,  0.        ,\n",
       "         0.        ,  1.        ,  0.        ,  0.        ,  0.        ,\n",
       "         0.        ,  0.        ,  0.        ,  0.        ,  0.        ,\n",
       "         0.        ,  0.        ,  0.        ,  0.        ,  0.        ,\n",
       "         0.        ,  0.        ,  0.        ,  0.        ,  0.        ,\n",
       "         1.        ,  0.        ,  0.        ,  0.        ,  0.        ,\n",
       "         0.        ,  0.        ,  0.        ,  0.        ,  0.        ,\n",
       "         0.        ,  0.        ,  0.        ,  0.        ,  0.        ,\n",
       "         0.        , -1.71507056, -0.96827602, -0.9069594 ]])"
      ]
     },
     "execution_count": 402,
     "metadata": {},
     "output_type": "execute_result"
    }
   ],
   "source": [
    "test_sample = transformer.transform(test_sample[cat_cols+num_cols]) # test the transformer in the sample data \n",
    "test_sample # we see here the transformer takes a dataframe and returns an array "
   ]
  },
  {
   "cell_type": "code",
   "execution_count": 403,
   "metadata": {},
   "outputs": [
    {
     "name": "stdout",
     "output_type": "stream",
     "text": [
      "X_train Size:  (11792, 64)\n",
      "y_train Size:  (11792,)\n",
      "X_test Size:  (2949, 64)\n",
      "y_test Size:  (2949,)\n"
     ]
    }
   ],
   "source": [
    "# Examine the shape of data after transformation\n",
    "print('X_train Size: ', X_train.shape)\n",
    "print('y_train Size: ', y_train.shape)\n",
    "print('X_test Size: ', X_test.shape)\n",
    "print('y_test Size: ', y_test.shape)"
   ]
  },
  {
   "attachments": {},
   "cell_type": "markdown",
   "metadata": {},
   "source": [
    "## 4- Modeling & Validation"
   ]
  },
  {
   "attachments": {},
   "cell_type": "markdown",
   "metadata": {},
   "source": [
    "#### The next step after preparing data is (Modeling & Validation).\n",
    "#### For validation, we will use cross validation method.\n",
    "#### Also we will compare between many models to choose the best one based on r2 value.\n",
    "#### Let's start ..."
   ]
  },
  {
   "cell_type": "code",
   "execution_count": 404,
   "metadata": {},
   "outputs": [],
   "source": [
    "from sklearn.model_selection import KFold, cross_val_score # for validation\n",
    "\n",
    "from sklearn.linear_model import LinearRegression # for modeling\n",
    "from sklearn.ensemble import RandomForestRegressor\n",
    "from sklearn.neighbors import KNeighborsRegressor\n",
    "from sklearn.tree import DecisionTreeRegressor\n",
    "from xgboost import XGBRegressor\n",
    "\n",
    "from sklearn.metrics import r2_score # for accuracy measuring"
   ]
  },
  {
   "cell_type": "code",
   "execution_count": 405,
   "metadata": {},
   "outputs": [],
   "source": [
    "k_folds = KFold(n_splits = 5) # Providing the number of folds"
   ]
  },
  {
   "cell_type": "code",
   "execution_count": 406,
   "metadata": {},
   "outputs": [],
   "source": [
    "# Saving models\n",
    "linear_regression = LinearRegression()\n",
    "random_forest = RandomForestRegressor()\n",
    "knn = KNeighborsRegressor()\n",
    "decision_tree = DecisionTreeRegressor()\n",
    "xgboost = XGBRegressor()\n",
    "models = {\n",
    "          'LinearRegression': linear_regression,\n",
    "          'RandomForestRegressor': random_forest,\n",
    "          'knn': knn,\n",
    "          'DecisionTreeRegressor': decision_tree,\n",
    "          'XGBRegressor': xgboost\n",
    "          }"
   ]
  },
  {
   "attachments": {},
   "cell_type": "markdown",
   "metadata": {},
   "source": [
    "#### Below we will build a function to :-  \n",
    "#### 1- Store cross validation scores in a dataframe (to check if the validation done successfully or not).\n",
    "#### 2- Store accuarcy readings in a dataframe (to compare between models and choose the best one).\n",
    "#### Hint that: The reason for storing each data in dataframe is only for make it easy to read.  "
   ]
  },
  {
   "cell_type": "code",
   "execution_count": 407,
   "metadata": {},
   "outputs": [],
   "source": [
    "# Testing different models\n",
    "def models_compar(X_train, y_train, models, k_folds):\n",
    "    '''\n",
    "    Computes accuarcies & validation scores for different models\n",
    "\n",
    "    Args:\n",
    "        X_train (numpy array): Training data features.\n",
    "        y_train (numpy array): Training data target.\n",
    "        models (dictionary): different models we compare among.\n",
    "        k_folds (class sklearn.model_selection.KFold(n_splits= ..)) : Nu. of folds used in cross validation. \n",
    "\n",
    "    Returns:\n",
    "        scores_cv_df (pd.DataFrame) : Cross validation scores.\n",
    "        models_df (pd.DataFrame) : Accuracy for each model.\n",
    "        \n",
    "    '''\n",
    "    scores_avg_cv = []\n",
    "    scores_cv = {}\n",
    "    train_acc = []\n",
    "    test_acc = []\n",
    "    r2 = []\n",
    "    for model_name, model in models.items():\n",
    "        scores = cross_val_score(model, X_train, y_train, cv = k_folds)\n",
    "        scores_cv[model_name] = scores\n",
    "        scores_avg_cv.append(scores.mean())\n",
    "        model.fit(X_train,y_train)\n",
    "        train_acc.append(model.score(X_train, y_train))\n",
    "        test_acc.append(model.score(X_test, y_test))\n",
    "        y_pred = model.predict(X_test)\n",
    "        r2.append(r2_score(y_test,y_pred))\n",
    "\n",
    "    scores_cv_df = pd.DataFrame(scores_cv)  \n",
    "    models_df = pd.DataFrame(data= [scores_avg_cv,train_acc,test_acc,r2], index= ['scores_avg_cv','train_acc','test_acc','r2'], columns= models.keys())\n",
    "\n",
    "    return  scores_cv_df, models_df\n"
   ]
  },
  {
   "cell_type": "code",
   "execution_count": 408,
   "metadata": {},
   "outputs": [],
   "source": [
    "scores_cv_df, models_df = models_compar(X_train, y_train, models, k_folds) "
   ]
  },
  {
   "cell_type": "code",
   "execution_count": 409,
   "metadata": {},
   "outputs": [
    {
     "data": {
      "text/html": [
       "<div>\n",
       "<style scoped>\n",
       "    .dataframe tbody tr th:only-of-type {\n",
       "        vertical-align: middle;\n",
       "    }\n",
       "\n",
       "    .dataframe tbody tr th {\n",
       "        vertical-align: top;\n",
       "    }\n",
       "\n",
       "    .dataframe thead th {\n",
       "        text-align: right;\n",
       "    }\n",
       "</style>\n",
       "<table border=\"1\" class=\"dataframe\">\n",
       "  <thead>\n",
       "    <tr style=\"text-align: right;\">\n",
       "      <th></th>\n",
       "      <th>LinearRegression</th>\n",
       "      <th>RandomForestRegressor</th>\n",
       "      <th>knn</th>\n",
       "      <th>DecisionTreeRegressor</th>\n",
       "      <th>XGBRegressor</th>\n",
       "    </tr>\n",
       "  </thead>\n",
       "  <tbody>\n",
       "    <tr>\n",
       "      <th>0</th>\n",
       "      <td>0.841143</td>\n",
       "      <td>0.905761</td>\n",
       "      <td>0.860272</td>\n",
       "      <td>0.856714</td>\n",
       "      <td>0.913810</td>\n",
       "    </tr>\n",
       "    <tr>\n",
       "      <th>1</th>\n",
       "      <td>0.856072</td>\n",
       "      <td>0.921308</td>\n",
       "      <td>0.878006</td>\n",
       "      <td>0.888789</td>\n",
       "      <td>0.931114</td>\n",
       "    </tr>\n",
       "    <tr>\n",
       "      <th>2</th>\n",
       "      <td>0.852506</td>\n",
       "      <td>0.909129</td>\n",
       "      <td>0.865626</td>\n",
       "      <td>0.854819</td>\n",
       "      <td>0.920892</td>\n",
       "    </tr>\n",
       "    <tr>\n",
       "      <th>3</th>\n",
       "      <td>0.849793</td>\n",
       "      <td>0.908071</td>\n",
       "      <td>0.881457</td>\n",
       "      <td>0.871219</td>\n",
       "      <td>0.926377</td>\n",
       "    </tr>\n",
       "    <tr>\n",
       "      <th>4</th>\n",
       "      <td>0.846449</td>\n",
       "      <td>0.911153</td>\n",
       "      <td>0.861691</td>\n",
       "      <td>0.855568</td>\n",
       "      <td>0.919099</td>\n",
       "    </tr>\n",
       "  </tbody>\n",
       "</table>\n",
       "</div>"
      ],
      "text/plain": [
       "   LinearRegression  RandomForestRegressor       knn  DecisionTreeRegressor  \\\n",
       "0          0.841143               0.905761  0.860272               0.856714   \n",
       "1          0.856072               0.921308  0.878006               0.888789   \n",
       "2          0.852506               0.909129  0.865626               0.854819   \n",
       "3          0.849793               0.908071  0.881457               0.871219   \n",
       "4          0.846449               0.911153  0.861691               0.855568   \n",
       "\n",
       "   XGBRegressor  \n",
       "0      0.913810  \n",
       "1      0.931114  \n",
       "2      0.920892  \n",
       "3      0.926377  \n",
       "4      0.919099  "
      ]
     },
     "execution_count": 409,
     "metadata": {},
     "output_type": "execute_result"
    }
   ],
   "source": [
    "scores_cv_df"
   ]
  },
  {
   "attachments": {},
   "cell_type": "markdown",
   "metadata": {},
   "source": [
    "#### Above, we see the 5 validation scores for each model are almost the same value.\n",
    "#### Validation done successfully ..."
   ]
  },
  {
   "cell_type": "code",
   "execution_count": 410,
   "metadata": {},
   "outputs": [
    {
     "data": {
      "text/html": [
       "<div>\n",
       "<style scoped>\n",
       "    .dataframe tbody tr th:only-of-type {\n",
       "        vertical-align: middle;\n",
       "    }\n",
       "\n",
       "    .dataframe tbody tr th {\n",
       "        vertical-align: top;\n",
       "    }\n",
       "\n",
       "    .dataframe thead th {\n",
       "        text-align: right;\n",
       "    }\n",
       "</style>\n",
       "<table border=\"1\" class=\"dataframe\">\n",
       "  <thead>\n",
       "    <tr style=\"text-align: right;\">\n",
       "      <th></th>\n",
       "      <th>LinearRegression</th>\n",
       "      <th>RandomForestRegressor</th>\n",
       "      <th>knn</th>\n",
       "      <th>DecisionTreeRegressor</th>\n",
       "      <th>XGBRegressor</th>\n",
       "    </tr>\n",
       "  </thead>\n",
       "  <tbody>\n",
       "    <tr>\n",
       "      <th>scores_avg_cv</th>\n",
       "      <td>0.849193</td>\n",
       "      <td>0.911085</td>\n",
       "      <td>0.869411</td>\n",
       "      <td>0.865422</td>\n",
       "      <td>0.922258</td>\n",
       "    </tr>\n",
       "    <tr>\n",
       "      <th>train_acc</th>\n",
       "      <td>0.851441</td>\n",
       "      <td>0.979769</td>\n",
       "      <td>0.922100</td>\n",
       "      <td>0.987791</td>\n",
       "      <td>0.960688</td>\n",
       "    </tr>\n",
       "    <tr>\n",
       "      <th>test_acc</th>\n",
       "      <td>0.839226</td>\n",
       "      <td>0.908931</td>\n",
       "      <td>0.860142</td>\n",
       "      <td>0.879067</td>\n",
       "      <td>0.911683</td>\n",
       "    </tr>\n",
       "    <tr>\n",
       "      <th>r2</th>\n",
       "      <td>0.839226</td>\n",
       "      <td>0.908931</td>\n",
       "      <td>0.860142</td>\n",
       "      <td>0.879067</td>\n",
       "      <td>0.911683</td>\n",
       "    </tr>\n",
       "  </tbody>\n",
       "</table>\n",
       "</div>"
      ],
      "text/plain": [
       "               LinearRegression  RandomForestRegressor       knn  \\\n",
       "scores_avg_cv          0.849193               0.911085  0.869411   \n",
       "train_acc              0.851441               0.979769  0.922100   \n",
       "test_acc               0.839226               0.908931  0.860142   \n",
       "r2                     0.839226               0.908931  0.860142   \n",
       "\n",
       "               DecisionTreeRegressor  XGBRegressor  \n",
       "scores_avg_cv               0.865422      0.922258  \n",
       "train_acc                   0.987791      0.960688  \n",
       "test_acc                    0.879067      0.911683  \n",
       "r2                          0.879067      0.911683  "
      ]
     },
     "execution_count": 410,
     "metadata": {},
     "output_type": "execute_result"
    }
   ],
   "source": [
    "models_df"
   ]
  },
  {
   "attachments": {},
   "cell_type": "markdown",
   "metadata": {},
   "source": [
    "#### Both (XGBRegressor & RandomForestRegressor) gave almost the same r2 value \"91.0 %\".\n",
    "#### I'll choose \"RandomForestRegressor\""
   ]
  },
  {
   "attachments": {},
   "cell_type": "markdown",
   "metadata": {},
   "source": [
    "## 5- Tuning the Model"
   ]
  },
  {
   "attachments": {},
   "cell_type": "markdown",
   "metadata": {},
   "source": [
    "#### Before creating the model, we need to provide best values for its parameters.\n",
    "#### In RandomForest we have 2 important parameters (n_estimators & max_depth).\n",
    "#### Below, We used GridSearch method to provide best values."
   ]
  },
  {
   "cell_type": "code",
   "execution_count": 411,
   "metadata": {},
   "outputs": [
    {
     "data": {
      "text/plain": [
       "GridSearchCV(cv=5, estimator=RandomForestRegressor(), n_jobs=-1,\n",
       "             param_grid={'max_depth': [7, 8, 9, 10, 11, 12],\n",
       "                         'n_estimators': [50, 100, 200]},\n",
       "             scoring='r2')"
      ]
     },
     "execution_count": 411,
     "metadata": {},
     "output_type": "execute_result"
    }
   ],
   "source": [
    "from sklearn.model_selection import GridSearchCV\n",
    "\n",
    "param_grid = {'n_estimators': [50, 100, 200], 'max_depth': [7,8,9,10,11,12]}\n",
    "\n",
    "grid = GridSearchCV(random_forest, param_grid, cv=5, scoring='r2', n_jobs=-1)\n",
    "grid.fit(X_train, y_train)"
   ]
  },
  {
   "cell_type": "code",
   "execution_count": 412,
   "metadata": {},
   "outputs": [
    {
     "name": "stdout",
     "output_type": "stream",
     "text": [
      "0.9145485712818984\n",
      "{'max_depth': 12, 'n_estimators': 200}\n"
     ]
    }
   ],
   "source": [
    "print(grid.best_score_)\n",
    "print(grid.best_params_)"
   ]
  },
  {
   "cell_type": "code",
   "execution_count": 413,
   "metadata": {},
   "outputs": [],
   "source": [
    "random_forest_best = RandomForestRegressor(n_estimators= grid.best_params_['n_estimators'], max_depth= grid.best_params_['max_depth'], random_state= 10) # creating the model using best values specified from gridsearch"
   ]
  },
  {
   "cell_type": "code",
   "execution_count": 414,
   "metadata": {},
   "outputs": [
    {
     "data": {
      "text/plain": [
       "RandomForestRegressor(max_depth=12, n_estimators=200, random_state=10)"
      ]
     },
     "execution_count": 414,
     "metadata": {},
     "output_type": "execute_result"
    }
   ],
   "source": [
    "random_forest_best.fit(X_train,y_train) # fitting the model"
   ]
  },
  {
   "cell_type": "code",
   "execution_count": 415,
   "metadata": {},
   "outputs": [
    {
     "name": "stdout",
     "output_type": "stream",
     "text": [
      "Training Accuracy:  0.954269983973256\n",
      "Test Accuracy:  0.9087887034795815\n"
     ]
    }
   ],
   "source": [
    "print('Training Accuracy: ', random_forest_best.score(X_train, y_train))\n",
    "print('Test Accuracy: ', random_forest_best.score(X_test, y_test))"
   ]
  },
  {
   "cell_type": "code",
   "execution_count": 416,
   "metadata": {},
   "outputs": [
    {
     "name": "stdout",
     "output_type": "stream",
     "text": [
      "Prediction Test:  178339.9290053449\n",
      "Actual Value:  170000.0\n"
     ]
    }
   ],
   "source": [
    "print('Prediction Test: ', random_forest_best.predict(test_sample)[0]) # sample for test\n",
    "print('Actual Value: ', y_test.iloc[10])"
   ]
  },
  {
   "cell_type": "code",
   "execution_count": 417,
   "metadata": {},
   "outputs": [],
   "source": [
    "y_pred = random_forest_best.predict(X_test)"
   ]
  },
  {
   "cell_type": "code",
   "execution_count": 418,
   "metadata": {},
   "outputs": [
    {
     "name": "stdout",
     "output_type": "stream",
     "text": [
      "0.9087887034795815\n"
     ]
    }
   ],
   "source": [
    "print(r2_score(y_test,y_pred))"
   ]
  },
  {
   "attachments": {},
   "cell_type": "markdown",
   "metadata": {},
   "source": [
    "### Congratulations !! ... Now, you have a model with about 91.0 % accuracy. "
   ]
  },
  {
   "attachments": {},
   "cell_type": "markdown",
   "metadata": {},
   "source": [
    "## 6- Transformer saving"
   ]
  },
  {
   "cell_type": "code",
   "execution_count": 419,
   "metadata": {},
   "outputs": [],
   "source": [
    "# pickle.dump(transformer, open('transf.pkl', 'wb'))"
   ]
  },
  {
   "attachments": {},
   "cell_type": "markdown",
   "metadata": {},
   "source": [
    "## 7- Model saving"
   ]
  },
  {
   "cell_type": "code",
   "execution_count": 420,
   "metadata": {},
   "outputs": [],
   "source": [
    "# pickle.dump(random_forest_best, open('RF.pkl', 'wb'))"
   ]
  },
  {
   "attachments": {},
   "cell_type": "markdown",
   "metadata": {},
   "source": [
    "## 8- Inference"
   ]
  },
  {
   "cell_type": "code",
   "execution_count": 421,
   "metadata": {},
   "outputs": [],
   "source": [
    "t = pickle.load(open('transf.pkl', 'rb'))\n",
    "m = pickle.load(open('RF.pkl', 'rb'))"
   ]
  },
  {
   "cell_type": "code",
   "execution_count": 422,
   "metadata": {},
   "outputs": [],
   "source": [
    "tst_smpl = t.transform(tst_smpl[cat_cols+num_cols])"
   ]
  },
  {
   "cell_type": "code",
   "execution_count": 423,
   "metadata": {},
   "outputs": [
    {
     "name": "stdout",
     "output_type": "stream",
     "text": [
      "Prediction Test:  54486.19741976683\n",
      "Actual Value:  60000.0\n"
     ]
    }
   ],
   "source": [
    "print('Prediction Test: ', m.predict(tst_smpl)[0])\n",
    "print('Actual Value: ', tst_smpl_y)"
   ]
  },
  {
   "attachments": {},
   "cell_type": "markdown",
   "metadata": {},
   "source": [
    "### Project Completed."
   ]
  }
 ],
 "metadata": {
  "kernelspec": {
   "display_name": "base",
   "language": "python",
   "name": "python3"
  },
  "language_info": {
   "codemirror_mode": {
    "name": "ipython",
    "version": 3
   },
   "file_extension": ".py",
   "mimetype": "text/x-python",
   "name": "python",
   "nbconvert_exporter": "python",
   "pygments_lexer": "ipython3",
   "version": "3.7.6"
  },
  "orig_nbformat": 4,
  "vscode": {
   "interpreter": {
    "hash": "1cca9558bc5ad879ec93cc030b157d75f18267527c60932cecaace349eef54dd"
   }
  }
 },
 "nbformat": 4,
 "nbformat_minor": 2
}
